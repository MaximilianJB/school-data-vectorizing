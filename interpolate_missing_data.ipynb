{
 "cells": [
  {
   "metadata": {},
   "cell_type": "markdown",
   "source": [
    "## Interpolate Data\n",
    "We had missing test scores for some schools from the EOC dataset, we need to interpolate these values to try and smooth the data"
   ],
   "id": "32d131c70f3c2f83"
  },
  {
   "cell_type": "code",
   "id": "initial_id",
   "metadata": {
    "collapsed": true,
    "ExecuteTime": {
     "end_time": "2024-11-12T23:42:18.697011Z",
     "start_time": "2024-11-12T23:42:17.776521Z"
    }
   },
   "source": [
    "# import packages\n",
    "import pandas as pd"
   ],
   "outputs": [],
   "execution_count": 1
  },
  {
   "metadata": {
    "ExecuteTime": {
     "end_time": "2024-11-13T00:08:13.400979Z",
     "start_time": "2024-11-13T00:08:13.388326Z"
    }
   },
   "cell_type": "code",
   "source": [
    "# import the final merged csv from previous notebook\n",
    "df = pd.read_csv('Cleaned-Data/merged.csv')\n",
    "\n",
    "# Convert 'Year' column to extract the starting year\n",
    "df['StartYear'] = df['SchoolYear'].str[:4].astype(int)\n",
    "\n",
    "print(df.head())"
   ],
   "id": "d0ae47da22f3d0b5",
   "outputs": [
    {
     "name": "stdout",
     "output_type": "stream",
     "text": [
      "  SchoolYear  QualityScore                           School  GeoCoded_Y  \\\n",
      "0    2010-11      0.000000         Aki Kurose Middle School   47.546628   \n",
      "1    2010-11      0.000000    Albert Einstein Middle School   47.769758   \n",
      "2    2010-11      0.580000  Auburn Mountainview High School   47.342018   \n",
      "3    2010-11      0.517067     Auburn Riverside High School   47.266955   \n",
      "4    2010-11      0.462733        Auburn Senior High School   47.308599   \n",
      "\n",
      "   GeoCoded_X Grade Category  StartYear  \n",
      "0 -122.282550  Middle School       2010  \n",
      "1 -122.362938  Middle School       2010  \n",
      "2 -122.172016    High School       2010  \n",
      "3 -122.223542    High School       2010  \n",
      "4 -122.219837    High School       2010  \n"
     ]
    }
   ],
   "execution_count": 27
  },
  {
   "metadata": {},
   "cell_type": "markdown",
   "source": [
    "## Interpolation Strategy\n",
    "### Case 1:\n",
    "If we find a missing value for the first value of a School's timeline then we will interpolate the new score as a factor of the schools mean times `(1 / variance)` where `variance` is the variance of all the non-zero values for that school group \n",
    "\n",
    "### Case 2:\n",
    "If a missing value has an observed score before it and after it, then we will calculate a linear interpolation and input a value that is in line with this linear calculation"
   ],
   "id": "a80a8016bee5ae80"
  },
  {
   "metadata": {
    "ExecuteTime": {
     "end_time": "2024-11-13T00:28:09.578779Z",
     "start_time": "2024-11-13T00:28:09.449680Z"
    }
   },
   "cell_type": "code",
   "source": [
    "schools_grouped = df.groupby('School', as_index=False)\n",
    "\n",
    "# list to store updated groups\n",
    "updated_groups = []\n",
    "\n",
    "for name, group in schools_grouped:\n",
    "    # Sort the group by 'StartYear'\n",
    "    group = group.sort_values(by='StartYear').reset_index(drop=True)\n",
    "    \n",
    "    # Identify missing and observed indices\n",
    "    missing_indices = group[group['QualityScore'] == 0.0].index\n",
    "    observed_indices = group[group['QualityScore'] != 0.0].index\n",
    "    \n",
    "    if len(missing_indices) > 0:\n",
    "        # Calculate mean, median, and variance\n",
    "        observed_scores = group.loc[observed_indices, 'QualityScore']\n",
    "        mean_score = observed_scores.mean()\n",
    "        median_score = observed_scores.median()\n",
    "        variance = observed_scores.var()\n",
    "        \n",
    "        for idx in missing_indices:\n",
    "            current_year = group.loc[idx, 'StartYear']\n",
    "            \n",
    "            # Find previous and next observed indices\n",
    "            prev_indices = observed_indices[observed_indices < idx]\n",
    "            next_indices = observed_indices[observed_indices > idx]\n",
    "            \n",
    "            prev_idx = prev_indices.max() if len(prev_indices) > 0 else None\n",
    "            next_idx = next_indices.min() if len(next_indices) > 0 else None\n",
    "            \n",
    "            if prev_idx is not None and next_idx is not None:\n",
    "                # Linear interpolation\n",
    "                prev_year = group.loc[prev_idx, 'StartYear']\n",
    "                next_year = group.loc[next_idx, 'StartYear']\n",
    "                prev_score = group.loc[prev_idx, 'QualityScore']\n",
    "                next_score = group.loc[next_idx, 'QualityScore']\n",
    "                \n",
    "                # Calculate interpolated score\n",
    "                interpolated_score = prev_score + ((next_score - prev_score) / (next_year - prev_year)) * (current_year - prev_year)\n",
    "                group.loc[idx, 'QualityScore'] = interpolated_score\n",
    "                \n",
    "            elif prev_idx is None:\n",
    "                # Missing value at the start\n",
    "                if variance != 0:\n",
    "                    adjusted_mean = mean_score * (1 / variance)\n",
    "                else:\n",
    "                    adjusted_mean = mean_score\n",
    "                    \n",
    "                group.loc[idx, 'QualityScore'] = adjusted_mean\n",
    "                \n",
    "    # Append the modified group to the list\n",
    "    updated_groups.append(group)"
   ],
   "id": "a4ba164919768885",
   "outputs": [],
   "execution_count": 43
  },
  {
   "metadata": {
    "ExecuteTime": {
     "end_time": "2024-11-13T00:28:11.507371Z",
     "start_time": "2024-11-13T00:28:11.457647Z"
    }
   },
   "cell_type": "code",
   "source": [
    "# Concatenate all updated groups into a single DataFrame\n",
    "updated_df = pd.concat(updated_groups, ignore_index=True)\n",
    "updated_df = updated_df.drop(columns=['StartYear'])\n",
    "\n",
    "# save as csv\n",
    "updated_df.to_csv('Cleaned-Data/merged-interpolated.csv', index=False)"
   ],
   "id": "f78bafe75933c98a",
   "outputs": [],
   "execution_count": 44
  }
 ],
 "metadata": {
  "kernelspec": {
   "display_name": "Python 3",
   "language": "python",
   "name": "python3"
  },
  "language_info": {
   "codemirror_mode": {
    "name": "ipython",
    "version": 2
   },
   "file_extension": ".py",
   "mimetype": "text/x-python",
   "name": "python",
   "nbconvert_exporter": "python",
   "pygments_lexer": "ipython2",
   "version": "2.7.6"
  }
 },
 "nbformat": 4,
 "nbformat_minor": 5
}
