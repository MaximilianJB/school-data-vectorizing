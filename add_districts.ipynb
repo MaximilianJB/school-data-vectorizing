{
 "cells": [
  {
   "metadata": {},
   "cell_type": "markdown",
   "source": [
    "## Add in School Districts\n",
    "Taking the school quality data, we will import GeoJSON file of the King County School Districts boundaries and attach each school to a school district"
   ],
   "id": "1fe1158956f48a08"
  },
  {
   "cell_type": "code",
   "id": "initial_id",
   "metadata": {
    "collapsed": true,
    "ExecuteTime": {
     "end_time": "2024-11-13T03:55:39.702819Z",
     "start_time": "2024-11-13T03:55:39.699787Z"
    }
   },
   "source": [
    "# import packages\n",
    "import pandas as pd\n",
    "import geopandas as gpd\n",
    "from shapely.geometry import Point"
   ],
   "outputs": [],
   "execution_count": 87
  },
  {
   "metadata": {
    "ExecuteTime": {
     "end_time": "2024-11-13T03:55:39.881717Z",
     "start_time": "2024-11-13T03:55:39.716195Z"
    }
   },
   "cell_type": "code",
   "source": [
    "# import necessary data\n",
    "school_data = pd.read_csv('Cleaned-Data/merged-interpolated.csv')\n",
    "district_geojson = gpd.read_file('Original-Data/Geospatial/School Districts King County.geojson')"
   ],
   "id": "1017906cd00b7cfc",
   "outputs": [],
   "execution_count": 88
  },
  {
   "metadata": {
    "ExecuteTime": {
     "end_time": "2024-11-13T03:55:39.895503Z",
     "start_time": "2024-11-13T03:55:39.892776Z"
    }
   },
   "cell_type": "code",
   "source": [
    "# function to take school lat/long and return home district\n",
    "def find_district(row):\n",
    "    lat = row['GeoCoded_X']\n",
    "    lon = row['GeoCoded_Y']\n",
    "    \n",
    "    # create point\n",
    "    point = Point(lat, lon)\n",
    "    \n",
    "    # Check which polygon(s) contain the point\n",
    "    containing_polygons = district_geojson[district_geojson.geometry.contains(point)]\n",
    "    \n",
    "    if containing_polygons.empty:\n",
    "        return None\n",
    "    else:\n",
    "        # save district\n",
    "        district = containing_polygons.iloc[0].to_dict()\n",
    "        \n",
    "        # Extract desired fields from the district\n",
    "        district_name = district['NAME']\n",
    "        district_id = district['DSTNUM']\n",
    "        \n",
    "        # Return a Series with the new columns\n",
    "        return pd.Series({'District_Name': district_name, 'District_Num': district_id})"
   ],
   "id": "eacaf9717a058ee",
   "outputs": [],
   "execution_count": 89
  },
  {
   "metadata": {
    "ExecuteTime": {
     "end_time": "2024-11-13T03:55:42.907942Z",
     "start_time": "2024-11-13T03:55:39.907528Z"
    }
   },
   "cell_type": "code",
   "source": [
    " # Apply the function and assign the result to new columns\n",
    "school_data[['District_Name', 'District_Num']] = school_data.apply(find_district, axis=1)"
   ],
   "id": "1515143b3df85af7",
   "outputs": [],
   "execution_count": 90
  },
  {
   "metadata": {
    "ExecuteTime": {
     "end_time": "2024-11-13T03:55:42.938241Z",
     "start_time": "2024-11-13T03:55:42.918653Z"
    }
   },
   "cell_type": "code",
   "source": [
    "# save new file as csv\n",
    "school_data.to_csv('Cleaned-Data/scores-districts.csv', index=False)"
   ],
   "id": "3cf0ded5c776dfa6",
   "outputs": [],
   "execution_count": 91
  },
  {
   "metadata": {},
   "cell_type": "markdown",
   "source": [
    "## Finding Max Scores per District\n",
    "For the model training we need to calculate, per district and per year, the *most quality* Elementary, Middle, and High school. let's do that "
   ],
   "id": "58f7e936f6a29f4d"
  },
  {
   "metadata": {
    "ExecuteTime": {
     "end_time": "2024-11-13T03:55:54.796762Z",
     "start_time": "2024-11-13T03:55:54.786572Z"
    }
   },
   "cell_type": "code",
   "source": [
    "# convert school year from range to single year\n",
    "school_data['StartYear'] = school_data['SchoolYear'].str[:4].astype(int)\n",
    "\n",
    "years = sorted(school_data['StartYear'].unique())\n",
    "grades = school_data['Grade Category'].unique()\n",
    "districts = school_data['District_Num'].unique()\n",
    "\n",
    "for year in years:\n",
    "    print(f\"{int(year)}, \", end='')\n",
    "print()\n",
    "print(grades)\n",
    "print(districts)"
   ],
   "id": "6fe4ca4fc067d581",
   "outputs": [
    {
     "name": "stdout",
     "output_type": "stream",
     "text": [
      "2010, 2011, 2012, 2014, 2015, 2016, 2017, 2018, 2020, 2021, 2022, 2023, \n",
      "['Elementary School' 'Middle School' 'High School' 'Other' 'K-12' 'PK-12'\n",
      " nan]\n",
      "['17001' '17210' '17414' '17412' '17408' '17411' '17405' '17417' '17403'\n",
      " '17401' '17216' '17407' '17415' '17406' '17410' '17409' '17402' '17400'\n",
      " '17404']\n"
     ]
    }
   ],
   "execution_count": 93
  },
  {
   "metadata": {
    "ExecuteTime": {
     "end_time": "2024-11-13T20:40:35.410968Z",
     "start_time": "2024-11-13T20:40:35.089441Z"
    }
   },
   "cell_type": "code",
   "source": [
    "# storing all new rows made here\n",
    "rows = []\n",
    "\n",
    "def find_max(categories, school_year, school_district):\n",
    "    filtered_data = school_data[(school_data['StartYear'] == school_year) & (school_data['Grade Category'].isin(categories)) & (school_data['District_Num'] == school_district)]\n",
    "    \n",
    "    # Check if filtered_data is not empty\n",
    "    if not filtered_data.empty:\n",
    "        max_row = filtered_data.loc[filtered_data['QualityScore'].idxmax()]\n",
    "        max_score = max_row['QualityScore']\n",
    "        return max_row, max_score\n",
    "    else:\n",
    "        # Return None or a default score if no data matches\n",
    "        return None, None\n",
    "    \n",
    "\n",
    "for year in years:\n",
    "    for district in districts:\n",
    "        # find elementary\n",
    "        valid_categories = ['Elementary School']\n",
    "        max_elementary_row, max_elementary_score = find_max(valid_categories, year, district)\n",
    "        \n",
    "        # find middle\n",
    "        valid_categories = ['Middle School']\n",
    "        max_middle_row, max_middle_score = find_max(valid_categories, year, district)\n",
    "        \n",
    "        # find high\n",
    "        valid_categories = ['High School']\n",
    "        max_high_row, max_high_score = find_max(valid_categories, year, district)\n",
    "        \n",
    "        # Append the row to the list\n",
    "        rows.append({\n",
    "            'Year': year,\n",
    "            'District': district,\n",
    "            'Max Elementary Score': max_elementary_score,\n",
    "            'Max Middle Score': max_middle_score,\n",
    "            'Max High Score': max_high_score\n",
    "        })\n",
    "\n",
    "# Convert rows to DataFrame\n",
    "max_scores_df = pd.DataFrame(rows)\n",
    "\n",
    "print(max_scores_df)\n"
   ],
   "id": "cb33d45b7aa5246",
   "outputs": [
    {
     "name": "stdout",
     "output_type": "stream",
     "text": [
      "     Year District  Max Elementary Score  Max Middle Score  Max High Score\n",
      "0    2010    17001              0.296145          0.928950        0.779117\n",
      "1    2010    17210              0.418491          0.880900        0.452133\n",
      "2    2010    17414                   NaN          0.927900        0.672500\n",
      "3    2010    17412                   NaN          0.396931        0.563375\n",
      "4    2010    17408                   NaN          0.451383        0.580000\n",
      "..    ...      ...                   ...               ...             ...\n",
      "223  2023    17410              0.948667          0.876333        0.591000\n",
      "224  2023    17409              0.555600          0.491000        0.395333\n",
      "225  2023    17402              0.770667          0.809667        0.857333\n",
      "226  2023    17400              0.941333          0.541600        0.509000\n",
      "227  2023    17404                   NaN               NaN        0.050000\n",
      "\n",
      "[228 rows x 5 columns]\n"
     ]
    }
   ],
   "execution_count": 102
  },
  {
   "metadata": {},
   "cell_type": "markdown",
   "source": "We have some Null values still. Will do some more interpolation on the data",
   "id": "4cee4966789f85f7"
  },
  {
   "metadata": {
    "ExecuteTime": {
     "end_time": "2024-11-13T20:52:04.037947Z",
     "start_time": "2024-11-13T20:52:03.997864Z"
    }
   },
   "cell_type": "code",
   "source": [
    "# Sort the dataframe by DistrictNum and Year\n",
    "max_scores_df = max_scores_df.sort_values(by=['District', 'Year']).reset_index(drop=True)\n",
    "\n",
    "# Helper function for interpolation with specified fallback for isolated NaNs\n",
    "def interpolate_with_fallback(column):\n",
    "    # Linear interpolation for values that can be interpolated\n",
    "    interpolated = column.interpolate(method=\"linear\", limit_direction=\"both\")\n",
    "    \n",
    "    # Calculate fallback value using mean * 1/variance\n",
    "    mean_value = column.mean()\n",
    "    variance_value = column.var()\n",
    "    fallback_value = mean_value * (1 / variance_value) if variance_value != 0 else mean_value\n",
    "    \n",
    "    # Fill any remaining NaNs with the fallback value\n",
    "    return interpolated.fillna(fallback_value)\n",
    "\n",
    "# Apply the function to each score column in your dataframe\n",
    "max_scores_df[\"Max Elementary Score\"] = interpolate_with_fallback(max_scores_df[\"Max Elementary Score\"])\n",
    "max_scores_df[\"Max Middle Score\"] = interpolate_with_fallback(max_scores_df[\"Max Middle Score\"])\n",
    "max_scores_df[\"Max High Score\"] = interpolate_with_fallback(max_scores_df[\"Max High Score\"])\n",
    "\n",
    "# Display the modified DataFrame\n",
    "max_scores_df"
   ],
   "id": "904c35b5f7ce3a92",
   "outputs": [
    {
     "data": {
      "text/plain": [
       "     Year District  Max Elementary Score  Max Middle Score  Max High Score\n",
       "0    2010    17001              0.296145          0.928950        0.779117\n",
       "1    2011    17001              0.768102          0.944000        0.820967\n",
       "2    2012    17001              0.768102          0.940900        0.873267\n",
       "3    2014    17001              0.937333          0.689000        0.783000\n",
       "4    2015    17001              0.765750          0.583429        0.587333\n",
       "..    ...      ...                   ...               ...             ...\n",
       "223  2018    17417              0.843000          0.533714        0.302714\n",
       "224  2020    17417              0.795000          0.445600        0.267000\n",
       "225  2021    17417              0.913333          0.569667        0.411000\n",
       "226  2022    17417              0.794225          0.498750        0.310114\n",
       "227  2023    17417              0.976333          0.812000        0.423500\n",
       "\n",
       "[228 rows x 5 columns]"
      ],
      "text/html": [
       "<div>\n",
       "<style scoped>\n",
       "    .dataframe tbody tr th:only-of-type {\n",
       "        vertical-align: middle;\n",
       "    }\n",
       "\n",
       "    .dataframe tbody tr th {\n",
       "        vertical-align: top;\n",
       "    }\n",
       "\n",
       "    .dataframe thead th {\n",
       "        text-align: right;\n",
       "    }\n",
       "</style>\n",
       "<table border=\"1\" class=\"dataframe\">\n",
       "  <thead>\n",
       "    <tr style=\"text-align: right;\">\n",
       "      <th></th>\n",
       "      <th>Year</th>\n",
       "      <th>District</th>\n",
       "      <th>Max Elementary Score</th>\n",
       "      <th>Max Middle Score</th>\n",
       "      <th>Max High Score</th>\n",
       "    </tr>\n",
       "  </thead>\n",
       "  <tbody>\n",
       "    <tr>\n",
       "      <th>0</th>\n",
       "      <td>2010</td>\n",
       "      <td>17001</td>\n",
       "      <td>0.296145</td>\n",
       "      <td>0.928950</td>\n",
       "      <td>0.779117</td>\n",
       "    </tr>\n",
       "    <tr>\n",
       "      <th>1</th>\n",
       "      <td>2011</td>\n",
       "      <td>17001</td>\n",
       "      <td>0.768102</td>\n",
       "      <td>0.944000</td>\n",
       "      <td>0.820967</td>\n",
       "    </tr>\n",
       "    <tr>\n",
       "      <th>2</th>\n",
       "      <td>2012</td>\n",
       "      <td>17001</td>\n",
       "      <td>0.768102</td>\n",
       "      <td>0.940900</td>\n",
       "      <td>0.873267</td>\n",
       "    </tr>\n",
       "    <tr>\n",
       "      <th>3</th>\n",
       "      <td>2014</td>\n",
       "      <td>17001</td>\n",
       "      <td>0.937333</td>\n",
       "      <td>0.689000</td>\n",
       "      <td>0.783000</td>\n",
       "    </tr>\n",
       "    <tr>\n",
       "      <th>4</th>\n",
       "      <td>2015</td>\n",
       "      <td>17001</td>\n",
       "      <td>0.765750</td>\n",
       "      <td>0.583429</td>\n",
       "      <td>0.587333</td>\n",
       "    </tr>\n",
       "    <tr>\n",
       "      <th>...</th>\n",
       "      <td>...</td>\n",
       "      <td>...</td>\n",
       "      <td>...</td>\n",
       "      <td>...</td>\n",
       "      <td>...</td>\n",
       "    </tr>\n",
       "    <tr>\n",
       "      <th>223</th>\n",
       "      <td>2018</td>\n",
       "      <td>17417</td>\n",
       "      <td>0.843000</td>\n",
       "      <td>0.533714</td>\n",
       "      <td>0.302714</td>\n",
       "    </tr>\n",
       "    <tr>\n",
       "      <th>224</th>\n",
       "      <td>2020</td>\n",
       "      <td>17417</td>\n",
       "      <td>0.795000</td>\n",
       "      <td>0.445600</td>\n",
       "      <td>0.267000</td>\n",
       "    </tr>\n",
       "    <tr>\n",
       "      <th>225</th>\n",
       "      <td>2021</td>\n",
       "      <td>17417</td>\n",
       "      <td>0.913333</td>\n",
       "      <td>0.569667</td>\n",
       "      <td>0.411000</td>\n",
       "    </tr>\n",
       "    <tr>\n",
       "      <th>226</th>\n",
       "      <td>2022</td>\n",
       "      <td>17417</td>\n",
       "      <td>0.794225</td>\n",
       "      <td>0.498750</td>\n",
       "      <td>0.310114</td>\n",
       "    </tr>\n",
       "    <tr>\n",
       "      <th>227</th>\n",
       "      <td>2023</td>\n",
       "      <td>17417</td>\n",
       "      <td>0.976333</td>\n",
       "      <td>0.812000</td>\n",
       "      <td>0.423500</td>\n",
       "    </tr>\n",
       "  </tbody>\n",
       "</table>\n",
       "<p>228 rows × 5 columns</p>\n",
       "</div>"
      ]
     },
     "execution_count": 108,
     "metadata": {},
     "output_type": "execute_result"
    }
   ],
   "execution_count": 108
  },
  {
   "metadata": {
    "ExecuteTime": {
     "end_time": "2024-11-13T20:52:07.577450Z",
     "start_time": "2024-11-13T20:52:07.570842Z"
    }
   },
   "cell_type": "code",
   "source": [
    "# save as csv\n",
    "max_scores_df.to_csv('Cleaned-Data/max-district-scores.csv', index=False)"
   ],
   "id": "2c841d2c394993bb",
   "outputs": [],
   "execution_count": 109
  }
 ],
 "metadata": {
  "kernelspec": {
   "display_name": "Python 3",
   "language": "python",
   "name": "python3"
  },
  "language_info": {
   "codemirror_mode": {
    "name": "ipython",
    "version": 2
   },
   "file_extension": ".py",
   "mimetype": "text/x-python",
   "name": "python",
   "nbconvert_exporter": "python",
   "pygments_lexer": "ipython2",
   "version": "2.7.6"
  }
 },
 "nbformat": 4,
 "nbformat_minor": 5
}
