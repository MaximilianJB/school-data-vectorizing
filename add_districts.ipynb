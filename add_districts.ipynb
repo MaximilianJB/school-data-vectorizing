{
 "cells": [
  {
   "metadata": {},
   "cell_type": "markdown",
   "source": [
    "## Add in School Districts\n",
    "Taking the school quality data, we will import GeoJSON file of the King County School Districts boundaries and attach each school to a school district"
   ],
   "id": "1fe1158956f48a08"
  },
  {
   "cell_type": "code",
   "id": "initial_id",
   "metadata": {
    "collapsed": true,
    "ExecuteTime": {
     "end_time": "2024-11-13T01:14:35.408824Z",
     "start_time": "2024-11-13T01:14:35.402139Z"
    }
   },
   "source": [
    "# import packages\n",
    "import pandas as pd\n",
    "import geopandas as gpd\n",
    "from shapely.geometry import Point"
   ],
   "outputs": [],
   "execution_count": 37
  },
  {
   "metadata": {
    "ExecuteTime": {
     "end_time": "2024-11-13T01:14:35.587955Z",
     "start_time": "2024-11-13T01:14:35.418049Z"
    }
   },
   "cell_type": "code",
   "source": [
    "# import necessary data\n",
    "school_data = pd.read_csv('Cleaned-Data/merged-interpolated.csv')\n",
    "district_geojson = gpd.read_file('Original-Data/Geospatial/School Districts King County.geojson')"
   ],
   "id": "1017906cd00b7cfc",
   "outputs": [],
   "execution_count": 38
  },
  {
   "metadata": {
    "ExecuteTime": {
     "end_time": "2024-11-13T01:14:35.601444Z",
     "start_time": "2024-11-13T01:14:35.598732Z"
    }
   },
   "cell_type": "code",
   "source": [
    "# function to take school lat/long and return home district\n",
    "def find_district(row):\n",
    "    lat = row['GeoCoded_X']\n",
    "    lon = row['GeoCoded_Y']\n",
    "    \n",
    "    # create point\n",
    "    point = Point(lat, lon)\n",
    "    \n",
    "    # Check which polygon(s) contain the point\n",
    "    containing_polygons = district_geojson[district_geojson.geometry.contains(point)]\n",
    "    \n",
    "    if containing_polygons.empty:\n",
    "        return None\n",
    "    else:\n",
    "        # save district\n",
    "        district = containing_polygons.iloc[0].to_dict()\n",
    "        \n",
    "        # Extract desired fields from the district\n",
    "        district_name = district['NAME']\n",
    "        district_id = district['DSTNUM']\n",
    "        \n",
    "        # Return a Series with the new columns\n",
    "        return pd.Series({'District_Name': district_name, 'District_Num': district_id})"
   ],
   "id": "eacaf9717a058ee",
   "outputs": [],
   "execution_count": 39
  },
  {
   "metadata": {
    "ExecuteTime": {
     "end_time": "2024-11-13T01:14:38.294123Z",
     "start_time": "2024-11-13T01:14:35.611706Z"
    }
   },
   "cell_type": "code",
   "source": [
    " # Apply the function and assign the result to new columns\n",
    "school_data[['District_Name', 'District_Num']] = school_data.apply(find_district, axis=1)\n",
    "\n",
    "print(school_data.head())"
   ],
   "id": "1515143b3df85af7",
   "outputs": [
    {
     "name": "stdout",
     "output_type": "stream",
     "text": [
      "  SchoolYear  QualityScore                             School  GeoCoded_Y  \\\n",
      "0    2014-15      0.685667  Adams Elementary School (Seattle)   47.673457   \n",
      "1    2015-16      0.569750  Adams Elementary School (Seattle)   47.673457   \n",
      "2    2016-17      0.609750  Adams Elementary School (Seattle)   47.673457   \n",
      "3    2017-18      0.397000  Adams Elementary School (Seattle)   47.673457   \n",
      "4    2018-19      0.361857  Adams Elementary School (Seattle)   47.673457   \n",
      "\n",
      "   GeoCoded_X     Grade Category District_Name District_Num  \n",
      "0   -122.3918  Elementary School       Seattle        17001  \n",
      "1   -122.3918  Elementary School       Seattle        17001  \n",
      "2   -122.3918  Elementary School       Seattle        17001  \n",
      "3   -122.3918  Elementary School       Seattle        17001  \n",
      "4   -122.3918  Elementary School       Seattle        17001  \n"
     ]
    }
   ],
   "execution_count": 40
  },
  {
   "metadata": {},
   "cell_type": "markdown",
   "source": "",
   "id": "c551093c4d3fbeb6"
  },
  {
   "metadata": {
    "ExecuteTime": {
     "end_time": "2024-11-13T01:14:38.376746Z",
     "start_time": "2024-11-13T01:14:38.357386Z"
    }
   },
   "cell_type": "code",
   "source": [
    "# save new file as csv\n",
    "school_data.to_csv('Cleaned-Data/scores-districts.csv', index=False)"
   ],
   "id": "3cf0ded5c776dfa6",
   "outputs": [],
   "execution_count": 41
  }
 ],
 "metadata": {
  "kernelspec": {
   "display_name": "Python 3",
   "language": "python",
   "name": "python3"
  },
  "language_info": {
   "codemirror_mode": {
    "name": "ipython",
    "version": 2
   },
   "file_extension": ".py",
   "mimetype": "text/x-python",
   "name": "python",
   "nbconvert_exporter": "python",
   "pygments_lexer": "ipython2",
   "version": "2.7.6"
  }
 },
 "nbformat": 4,
 "nbformat_minor": 5
}
