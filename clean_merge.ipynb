{
 "cells": [
  {
   "cell_type": "markdown",
   "metadata": {},
   "source": [
    "# Clean and Merge Data\n",
    "### EOC Datasets\n",
    "We have three datasets from the EOC scores testing standard (2011-2013)\n",
    "\n",
    "### Report Card Datasets\n",
    "We have three datasets from other various testing standard (2014-2024)\n",
    "\n",
    "### School Geospatial Data\n",
    "Lat/Long data for each school in King County"
   ]
  },
  {
   "cell_type": "code",
   "execution_count": 84,
   "metadata": {},
   "outputs": [],
   "source": [
    "# import packages\n",
    "import pandas as pd"
   ]
  },
  {
   "cell_type": "markdown",
   "metadata": {},
   "source": [
    "## EOC Data\n",
    "First merge and clean the EOC Datasets to finish with a csv of schools and their quality scores"
   ]
  },
  {
   "cell_type": "code",
   "execution_count": 85,
   "metadata": {},
   "outputs": [],
   "source": [
    "# read in csv files\n",
    "eoc_2011 = pd.read_csv('Original-Data/Scores/EOC Scores by School 2011.csv')\n",
    "eoc_2012 = pd.read_csv('Original-Data/Scores/EOC Scores by School 2012.csv')\n",
    "eoc_2013 = pd.read_csv('Original-Data/Scores/EOC Scores by School 2013.csv')\n",
    "\n",
    "# combine dataframes\n",
    "eoc = pd.concat([eoc_2011, eoc_2012, eoc_2013], ignore_index=True)\n",
    "\n",
    "# list of columns to keep\n",
    "columns_to_keep = ['SchoolYear', 'ESD', 'County', 'District', 'School', \n",
    "                   'Algebra1PercentMetStandardIncludingPrevPass', \n",
    "                   'GeometryPercentMetStandardIncludingPrevPass', \n",
    "                   'BiologyPercentMetStandardIncludingPrevPass']\n",
    "\n",
    "# filter the DataFrame to keep only the specified columns\n",
    "eoc_filtered = eoc.filter(columns_to_keep)\n",
    "\n",
    "# filter for only King County\n",
    "eoc_king = eoc_filtered[eoc_filtered['County'] == 'King']\n",
    "\n",
    "# group by school\n",
    "eoc_king_grouped = eoc_king.groupby(['SchoolYear', 'School']).agg({\n",
    "    'Algebra1PercentMetStandardIncludingPrevPass': 'mean',\n",
    "    'GeometryPercentMetStandardIncludingPrevPass': 'mean',\n",
    "    'BiologyPercentMetStandardIncludingPrevPass': 'mean',\n",
    "}).reset_index()\n",
    "\n",
    "# save as csv\n",
    "eoc_king_grouped.to_csv('Cleaned-Data/EOC/eoc_king_grouped.csv', index=False)"
   ]
  },
  {
   "cell_type": "markdown",
   "metadata": {},
   "source": [
    "Now create a quality score for each school based on the three EOC scores"
   ]
  },
  {
   "cell_type": "code",
   "execution_count": 128,
   "metadata": {},
   "outputs": [
    {
     "name": "stdout",
     "output_type": "stream",
     "text": [
      "  SchoolYear                                  School  \\\n",
      "0    2010-11  Academy of Citizenship and Empowerment   \n",
      "1    2010-11                Aki Kurose Middle School   \n",
      "2    2010-11           Albert Einstein Middle School   \n",
      "3    2010-11                Arts & Academics Academy   \n",
      "4    2010-11         Auburn Mountainview High School   \n",
      "\n",
      "   Algebra1PercentMetStandardIncludingPrevPass  \\\n",
      "0                                        34.95   \n",
      "1                                          NaN   \n",
      "2                                          NaN   \n",
      "3                                        21.50   \n",
      "4                                        36.80   \n",
      "\n",
      "   GeometryPercentMetStandardIncludingPrevPass  \\\n",
      "0                                        47.83   \n",
      "1                                          NaN   \n",
      "2                                          NaN   \n",
      "3                                        38.00   \n",
      "4                                        79.20   \n",
      "\n",
      "   BiologyPercentMetStandardIncludingPrevPass  QualityScore  \n",
      "0                                         NaN        0.4139  \n",
      "1                                         NaN        0.0000  \n",
      "2                                         NaN        0.0000  \n",
      "3                                         NaN        0.2975  \n",
      "4                                         NaN        0.5800  \n"
     ]
    }
   ],
   "source": [
    "# function to calculate the quality score\n",
    "def quality_score(row):\n",
    "    algebra = row['Algebra1PercentMetStandardIncludingPrevPass']\n",
    "    geometry = row['GeometryPercentMetStandardIncludingPrevPass']\n",
    "    biology = row['BiologyPercentMetStandardIncludingPrevPass']\n",
    "    \n",
    "    # Create list of non-NaN values\n",
    "    valid_scores = [score for score in [algebra, geometry, biology] if pd.notna(score)]\n",
    "\n",
    "    if len(valid_scores) == 0:\n",
    "        return 0\n",
    "    else:\n",
    "        return sum(valid_scores) / len(valid_scores) / 100\n",
    "\n",
    "# apply the quality score to the dataframe\n",
    "eoc_king_grouped['QualityScore'] = eoc_king_grouped.apply(quality_score, axis=1)\n",
    "\n",
    "print(eoc_king_grouped.head())"
   ]
  },
  {
   "cell_type": "markdown",
   "metadata": {},
   "source": [
    "## Report Card Data\n",
    "Next merge and clean the Report Card Datasets to finish with a csv of schools and their quality scores\n"
   ]
  },
  {
   "cell_type": "code",
   "execution_count": 119,
   "metadata": {},
   "outputs": [],
   "source": [
    "# read in csv files\n",
    "rc_2014_22 = pd.read_csv('Original-Data/Scores/Report Card Data 2014-22.csv', low_memory=False)\n",
    "rc_2022_23 = pd.read_csv('Original-Data/Scores/Report Card Data 2022-23.csv', low_memory=False)\n",
    "rc_2023_24 = pd.read_csv('Original-Data/Scores/Report Card Data 2023-24.csv', low_memory=False)\n",
    "\n",
    "# combine dataframes\n",
    "rc = pd.concat([rc_2014_22, rc_2022_23, rc_2023_24], ignore_index=True)\n"
   ]
  },
  {
   "cell_type": "code",
   "execution_count": 121,
   "metadata": {},
   "outputs": [
    {
     "name": "stdout",
     "output_type": "stream",
     "text": [
      "  SchoolYear  SchoolCode  QualityScore\n",
      "0    2014-15      1502.0         0.206\n",
      "1    2014-15      1523.0         0.050\n",
      "2    2014-15      1534.0         0.050\n",
      "3    2014-15      1539.0         0.348\n",
      "4    2014-15      1540.0         0.124\n"
     ]
    }
   ],
   "source": [
    "# rename columns and handle duplicates\n",
    "rc = rc.rename(columns={'ESDOrganizationID': 'ESD', \n",
    "                       'DistricName': 'District', \n",
    "                       'Percent Foundational Grade-Level Knowledge And Above': 'PercentMetStandard'})\n",
    "\n",
    "# Combine duplicate PercentMetStandard columns if they exist\n",
    "if rc.columns.duplicated().any():\n",
    "    percent_cols = [i for i, col in enumerate(rc.columns) if col == 'PercentMetStandard']\n",
    "    rc['PercentMetStandard'] = rc.iloc[:, percent_cols[0]].combine_first(rc.iloc[:, percent_cols[1]])\n",
    "    rc = rc.loc[:, ~rc.columns.duplicated(keep='first')]\n",
    "\n",
    "# filter for only King County and All Students\n",
    "rc_king = rc[rc['County'] == 'King']\n",
    "rc_king = rc_king[rc_king['StudentGroupType'] == 'All']\n",
    "rc_king = rc_king[rc_king['GradeLevel'] == 'All Grades']\n",
    "\n",
    "# list of columns to keep\n",
    "columns_to_keep = ['SchoolYear', 'ESD', 'District', \n",
    "                   'SchoolCode', 'SchoolName','PercentMetStandard']\n",
    "\n",
    "# filter the DataFrame to keep only the specified columns\n",
    "rc_king_filtered = rc_king.filter(columns_to_keep)\n",
    "\n",
    "# Replace non-numeric values\n",
    "rc_king_filtered['PercentMetStandard'] = rc_king_filtered['PercentMetStandard'].str.replace('No Students', '0')\n",
    "rc_king_filtered['PercentMetStandard'] = rc_king_filtered['PercentMetStandard'].str.replace('>', '').str.replace('<', '')\n",
    "rc_king_filtered['PercentMetStandard'] = rc_king_filtered['PercentMetStandard'].str.replace('Suppressed: N10', '5').str.replace('N10 (Count Protected)', '5').str.replace('N10', '5')\n",
    "\n",
    "# # convert percent met standard to float\n",
    "rc_king_filtered['PercentMetStandard'] = rc_king_filtered['PercentMetStandard'].str.replace('%', '').astype(float)\n",
    "\n",
    "# group by school\n",
    "rc_king_grouped = rc_king_filtered.groupby(['SchoolYear', 'SchoolCode']).agg({\n",
    "    'PercentMetStandard': 'mean',\n",
    "}).reset_index()\n",
    "\n",
    "rc_king_grouped.rename(columns={'PercentMetStandard': 'QualityScore'}, inplace=True)\n",
    "rc_king_grouped['QualityScore'] = rc_king_grouped['QualityScore'] / 100\n",
    "\n",
    "print(rc_king_grouped.head())"
   ]
  },
  {
   "cell_type": "code",
   "execution_count": 95,
   "metadata": {},
   "outputs": [],
   "source": [
    "# save csvs\n",
    "rc_king_grouped.to_csv('Cleaned-Data/Report-Card/rc_king_grouped.csv', index=False)\n",
    "eoc_king_grouped.to_csv('Cleaned-Data/EOC/eoc_king_grouped.csv', index=False)"
   ]
  },
  {
   "cell_type": "markdown",
   "metadata": {},
   "source": [
    "## Add Geospatial Data\n",
    "We will merge the geospatial data with the EOC and Report Card data to finish with a csv of schools and their quality scores and lat/long data"
   ]
  },
  {
   "cell_type": "code",
   "execution_count": 129,
   "metadata": {},
   "outputs": [
    {
     "name": "stdout",
     "output_type": "stream",
     "text": [
      "  SchoolYear                              SchoolName  QualityScore\n",
      "0    2010-11  Academy of Citizenship and Empowerment        0.4139\n",
      "1    2010-11                Aki Kurose Middle School        0.0000\n",
      "2    2010-11           Albert Einstein Middle School        0.0000\n",
      "3    2010-11                Arts & Academics Academy        0.2975\n",
      "4    2010-11         Auburn Mountainview High School        0.5800\n",
      "  SchoolYear  SchoolCode  QualityScore\n",
      "0    2014-15        1502         0.206\n",
      "1    2014-15        1523         0.050\n",
      "2    2014-15        1534         0.050\n",
      "3    2014-15        1539         0.348\n",
      "4    2014-15        1540         0.124\n"
     ]
    }
   ],
   "source": [
    "# read in csv files\n",
    "school_geospatial = pd.read_csv('Original-Data/School Geospatial/Washington State Public Schools 2024.csv')\n",
    "rc = rc_king_grouped.copy()\n",
    "eoc = eoc_king_grouped.copy()\n",
    "\n",
    "# make rc and eoc dataframes compatible\n",
    "eoc.drop(columns=['Algebra1PercentMetStandardIncludingPrevPass', 'GeometryPercentMetStandardIncludingPrevPass', 'BiologyPercentMetStandardIncludingPrevPass'], inplace=True)\n",
    "eoc.rename(columns={'School': 'SchoolName'}, inplace=True)\n",
    "rc['SchoolCode'] = rc['SchoolCode'].astype(int)\n",
    "\n",
    "print(eoc.head())\n",
    "print(rc.head())"
   ]
  },
  {
   "cell_type": "markdown",
   "metadata": {},
   "source": [
    "Now merge the dataframes with the geospatial data"
   ]
  },
  {
   "cell_type": "code",
   "execution_count": 136,
   "metadata": {},
   "outputs": [
    {
     "name": "stdout",
     "output_type": "stream",
     "text": [
      "     SchoolYear  QualityScore                          School  GeoCoded_Y  \\\n",
      "1       2010-11           0.0        Aki Kurose Middle School   47.546628   \n",
      "2       2010-11           0.0   Albert Einstein Middle School   47.769758   \n",
      "11      2010-11           0.0              Big Picture School   47.437033   \n",
      "13      2010-11           0.0    Broadview-Thomson K-8 School   47.724657   \n",
      "16      2010-11           0.0                            CLIP   47.652353   \n",
      "...         ...           ...                             ...         ...   \n",
      "1068    2012-13           0.0     Wing Luke Elementary School   47.530546   \n",
      "2048    2015-16           0.0    Summit Public School: Sierra   47.597854   \n",
      "2575    2017-18           0.0         Regional Justice Center   47.384679   \n",
      "2587    2017-18           0.0           Satellite High School   47.437805   \n",
      "4020    2020-21           0.0  Renton Technical College - You   47.489168   \n",
      "\n",
      "      GeoCoded_X  \n",
      "1    -122.282550  \n",
      "2    -122.362938  \n",
      "11   -122.328097  \n",
      "13   -122.353973  \n",
      "16   -121.907959  \n",
      "...          ...  \n",
      "1068 -122.285022  \n",
      "2048 -122.318341  \n",
      "2575 -122.238304  \n",
      "2587 -122.325318  \n",
      "4020 -122.177403  \n",
      "\n",
      "[359 rows x 5 columns]\n"
     ]
    }
   ],
   "source": [
    "# prepare the geospatial data\n",
    "school_geospatial = school_geospatial[school_geospatial['County'] == 'King']  # Filter for King County\n",
    "\n",
    "# Merge EOC data with geospatial using school name\n",
    "merged_eoc = pd.merge(\n",
    "    eoc,\n",
    "    school_geospatial[['School', 'School Code', 'GeoCoded_Y', 'GeoCoded_X']],\n",
    "    left_on='SchoolName',\n",
    "    right_on='School',\n",
    "    how='left'\n",
    ")\n",
    "\n",
    "# Merge RC data with geospatial using school code\n",
    "merged_rc = pd.merge(\n",
    "    rc,\n",
    "    school_geospatial[['School', 'School Code', 'GeoCoded_Y', 'GeoCoded_X']],\n",
    "    left_on='SchoolCode',\n",
    "    right_on='School Code',\n",
    "    how='left'\n",
    ")\n",
    "\n",
    "# concat the two dataframes\n",
    "merged = pd.concat([merged_eoc, merged_rc], ignore_index=True)\n",
    "\n",
    "# drop rows where GeoCoded_X or GeoCoded_Y are null\n",
    "merged.dropna(subset=['GeoCoded_X', 'GeoCoded_Y'], inplace=True)\n",
    "\n",
    "# drop unnecessary columns\n",
    "merged.drop(columns=['SchoolName', 'School Code', 'SchoolCode'], inplace=True)\n",
    "\n",
    "print(merged.head())"
   ]
  },
  {
   "cell_type": "code",
   "execution_count": 131,
   "metadata": {},
   "outputs": [],
   "source": [
    "# save final csv\n",
    "merged.to_csv('Cleaned-Data/merged.csv', index=False)"
   ]
  }
 ],
 "metadata": {
  "kernelspec": {
   "display_name": "data",
   "language": "python",
   "name": "python3"
  },
  "language_info": {
   "codemirror_mode": {
    "name": "ipython",
    "version": 3
   },
   "file_extension": ".py",
   "mimetype": "text/x-python",
   "name": "python",
   "nbconvert_exporter": "python",
   "pygments_lexer": "ipython3",
   "version": "3.13.0"
  }
 },
 "nbformat": 4,
 "nbformat_minor": 2
}
